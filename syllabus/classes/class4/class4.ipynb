{
 "cells": [
  {
   "cell_type": "markdown",
   "source": [
    "# Introduction to pytorch tensors\n",
    "\n",
    "---\n",
    "\n",
    "Pytorch tensors, work very similar to numpy arrays and you can always convert it to a numpy array or make a numpy array into a torch tensor. The primary difference is that it is located either on your CPU or your GPU and that it contains works with the auto differential software of pytorch."
   ],
   "metadata": {}
  },
  {
   "cell_type": "code",
   "execution_count": 2,
   "source": [
    "import torch\n",
    "x_tensor = torch.tensor([[1., -1.], [1., -1.]])\n",
    "print(type(x_tensor))\n",
    "\n",
    "# tensor to numpy\n",
    "x_array = x_tensor.numpy()\n",
    "print(type(x_array))\n",
    "\n",
    "# numpy to tensor\n",
    "x_tensor2 =torch.tensor(x_array)\n",
    "print(type(x_tensor2))\n",
    "\n",
    "print(x_tensor2 == x_tensor)\n",
    "\n",
    "# Location of tensor\n",
    "x_tensor.device #You can make it run on a GPU instead"
   ],
   "outputs": [
    {
     "output_type": "stream",
     "name": "stdout",
     "text": "<class 'torch.Tensor'>\n<class 'numpy.ndarray'>\n<class 'torch.Tensor'>\ntensor([[True, True],\n        [True, True]])\n"
    },
    {
     "output_type": "execute_result",
     "data": {
      "text/plain": "device(type='cpu')"
     },
     "metadata": {},
     "execution_count": 2
    }
   ],
   "metadata": {}
  },
  {
   "cell_type": "markdown",
   "source": [
    "### Example of finding gradient"
   ],
   "metadata": {}
  },
  {
   "cell_type": "code",
   "execution_count": 18,
   "source": [
    "x = torch.tensor([[1., -1.], [1., 1.]], requires_grad=True)\n",
    "\n",
    "# sum(x_i ^ 2)\n",
    "out = (x**2).sum()\n",
    "\n",
    "# calculate the gradient such that out is minimized\n",
    "out.backward()\n",
    "\n",
    "# What is the gradient for x\n",
    "print(x.grad)"
   ],
   "outputs": [
    {
     "output_type": "stream",
     "name": "stdout",
     "text": [
      "tensor([[ 2., -2.],\n",
      "        [ 2.,  2.]])\n"
     ]
    }
   ],
   "metadata": {}
  },
  {
   "cell_type": "markdown",
   "source": [
    "# Optimizing a polynomial\n",
    "\n",
    "---\n",
    "\n"
   ],
   "metadata": {}
  },
  {
   "cell_type": "code",
   "execution_count": 4,
   "source": [
    "#Create a tensor, can be thought of as a (potential) 3D matrix\n",
    "x = torch.tensor([3.], requires_grad=True) \n",
    "#create a function -> this is what we want the gradient for\n",
    "y = 2. + x**2 -3 *x\n",
    "print(f'this is y {y}')\n",
    "\n",
    "# create sgd optimizer, lr is learning rate\n",
    "optimizer = torch.optim.SGD([x], lr=0.01)\n",
    "\n",
    "# backward pass / calcuate the gradient on the thing we want to optimize\n",
    "y.backward()\n",
    "\n",
    "print(x.grad) # examine\n",
    "\n",
    "# step in the direction to minimize y\n",
    "optimizer.step()\n",
    "\n",
    "#Given the backward function we are trying to optimize, take on step in the wanted direction, step size is learning rate\n",
    "\n",
    "# set the gradient to zero. (This is a bit wierd but required)\n",
    "optimizer.zero_grad()\n"
   ],
   "outputs": [
    {
     "output_type": "stream",
     "name": "stdout",
     "text": "this is y tensor([2.], grad_fn=<SubBackward0>)\ntensor([3.])\n"
    }
   ],
   "metadata": {}
  },
  {
   "cell_type": "code",
   "execution_count": 5,
   "source": [
    "# we see that x have improved (minimum is 1.5 so moving in the right direction)\n",
    "print(x)\n",
    "# we see that the gradient is set to zero\n",
    "print(x.grad)"
   ],
   "outputs": [
    {
     "output_type": "stream",
     "name": "stdout",
     "text": "tensor([2.9700], requires_grad=True)\ntensor([0.])\n"
    }
   ],
   "metadata": {}
  },
  {
   "cell_type": "markdown",
   "source": [
    "We can now do this multiple times to obtain the desired results:"
   ],
   "metadata": {}
  },
  {
   "cell_type": "code",
   "execution_count": 6,
   "source": [
    "for i in range(1000):\n",
    "\n",
    "    # forward pass / or just calculate the outcome\n",
    "    y = 2. + x**2 -3 *x\n",
    "\n",
    "    # backward pass on the thing we want to minimize/ calculate the gradient!\n",
    "    y.backward()\n",
    "\n",
    "    # take a step in the \"minimize direction\"\n",
    "    optimizer.step()\n",
    "\n",
    "    # zero the gradient\n",
    "    optimizer.zero_grad()"
   ],
   "outputs": [],
   "metadata": {}
  },
  {
   "cell_type": "code",
   "execution_count": 7,
   "source": [
    "print(x)"
   ],
   "outputs": [
    {
     "output_type": "stream",
     "name": "stdout",
     "text": "tensor([1.5000], requires_grad=True)\n"
    }
   ],
   "metadata": {}
  },
  {
   "cell_type": "markdown",
   "source": [
    "\n",
    "# Fitting a Linear regression\n",
    "\n",
    "---\n",
    "\n",
    "Here we will fit a linear regression using pytorch, using the same approach as above.\n",
    "\n",
    "## 0) Prepare the data\n",
    "First let us create some data. We will do this using `sklearn`'s `make_regression`, which just make some sample data for regression."
   ],
   "metadata": {}
  },
  {
   "cell_type": "code",
   "execution_count": 8,
   "source": [
    "from sklearn import datasets\n",
    "import matplotlib.pyplot as plt\n",
    "\n",
    "# 0) Prepare data\n",
    "X_numpy, y_numpy = datasets.make_regression(n_samples=100, n_features=1, noise=20, random_state=4)\n",
    "\n",
    "# plot the sample\n",
    "plt.plot(X_numpy, y_numpy, 'ro')\n",
    "plt.show()\n",
    "\n",
    "# cast to float Tensor\n",
    "X = torch.tensor(X_numpy, dtype=torch.float)\n",
    "y = torch.tensor(y_numpy, dtype=torch.float)\n",
    "y = y.view(y.shape[0], 1) # view is similar to reshape it simply sets the desired shape to (100, 1)\n",
    "print(y.shape)\n",
    "print(y.dtype)\n",
    "print(x.dtype)\n",
    "\n",
    "\n",
    "n_samples, n_features = X.shape"
   ],
   "outputs": [
    {
     "output_type": "display_data",
     "data": {
      "text/plain": "<Figure size 432x288 with 1 Axes>",
      "image/svg+xml": "<?xml version=\"1.0\" encoding=\"utf-8\" standalone=\"no\"?>\n<!DOCTYPE svg PUBLIC \"-//W3C//DTD SVG 1.1//EN\"\n  \"http://www.w3.org/Graphics/SVG/1.1/DTD/svg11.dtd\">\n<!-- Created with matplotlib (https://matplotlib.org/) -->\n<svg height=\"248.518125pt\" version=\"1.1\" viewBox=\"0 0 383.667187 248.518125\" width=\"383.667187pt\" xmlns=\"http://www.w3.org/2000/svg\" xmlns:xlink=\"http://www.w3.org/1999/xlink\">\n <metadata>\n  <rdf:RDF xmlns:cc=\"http://creativecommons.org/ns#\" xmlns:dc=\"http://purl.org/dc/elements/1.1/\" xmlns:rdf=\"http://www.w3.org/1999/02/22-rdf-syntax-ns#\">\n   <cc:Work>\n    <dc:type rdf:resource=\"http://purl.org/dc/dcmitype/StillImage\"/>\n    <dc:date>2021-09-30T13:36:33.327074</dc:date>\n    <dc:format>image/svg+xml</dc:format>\n    <dc:creator>\n     <cc:Agent>\n      <dc:title>Matplotlib v3.3.1, https://matplotlib.org/</dc:title>\n     </cc:Agent>\n    </dc:creator>\n   </cc:Work>\n  </rdf:RDF>\n </metadata>\n <defs>\n  <style type=\"text/css\">*{stroke-linecap:butt;stroke-linejoin:round;}</style>\n </defs>\n <g id=\"figure_1\">\n  <g id=\"patch_1\">\n   <path d=\"M 0 248.518125 \nL 383.667187 248.518125 \nL 383.667187 0 \nL 0 0 \nz\n\" style=\"fill:none;\"/>\n  </g>\n  <g id=\"axes_1\">\n   <g id=\"patch_2\">\n    <path d=\"M 41.667188 224.64 \nL 376.467188 224.64 \nL 376.467188 7.2 \nL 41.667188 7.2 \nz\n\" style=\"fill:#ffffff;\"/>\n   </g>\n   <g id=\"matplotlib.axis_1\">\n    <g id=\"xtick_1\">\n     <g id=\"line2d_1\">\n      <defs>\n       <path d=\"M 0 0 \nL 0 3.5 \n\" id=\"m1cf4932c78\" style=\"stroke:#000000;stroke-width:0.8;\"/>\n      </defs>\n      <g>\n       <use style=\"stroke:#000000;stroke-width:0.8;\" x=\"80.687105\" xlink:href=\"#m1cf4932c78\" y=\"224.64\"/>\n      </g>\n     </g>\n     <g id=\"text_1\">\n      <!-- −2 -->\n      <g transform=\"translate(73.316011 239.238437)scale(0.1 -0.1)\">\n       <defs>\n        <path d=\"M 10.59375 35.5 \nL 73.1875 35.5 \nL 73.1875 27.203125 \nL 10.59375 27.203125 \nz\n\" id=\"DejaVuSans-8722\"/>\n        <path d=\"M 19.1875 8.296875 \nL 53.609375 8.296875 \nL 53.609375 0 \nL 7.328125 0 \nL 7.328125 8.296875 \nQ 12.9375 14.109375 22.625 23.890625 \nQ 32.328125 33.6875 34.8125 36.53125 \nQ 39.546875 41.84375 41.421875 45.53125 \nQ 43.3125 49.21875 43.3125 52.78125 \nQ 43.3125 58.59375 39.234375 62.25 \nQ 35.15625 65.921875 28.609375 65.921875 \nQ 23.96875 65.921875 18.8125 64.3125 \nQ 13.671875 62.703125 7.8125 59.421875 \nL 7.8125 69.390625 \nQ 13.765625 71.78125 18.9375 73 \nQ 24.125 74.21875 28.421875 74.21875 \nQ 39.75 74.21875 46.484375 68.546875 \nQ 53.21875 62.890625 53.21875 53.421875 \nQ 53.21875 48.921875 51.53125 44.890625 \nQ 49.859375 40.875 45.40625 35.40625 \nQ 44.1875 33.984375 37.640625 27.21875 \nQ 31.109375 20.453125 19.1875 8.296875 \nz\n\" id=\"DejaVuSans-50\"/>\n       </defs>\n       <use xlink:href=\"#DejaVuSans-8722\"/>\n       <use x=\"83.789062\" xlink:href=\"#DejaVuSans-50\"/>\n      </g>\n     </g>\n    </g>\n    <g id=\"xtick_2\">\n     <g id=\"line2d_2\">\n      <g>\n       <use style=\"stroke:#000000;stroke-width:0.8;\" x=\"143.360315\" xlink:href=\"#m1cf4932c78\" y=\"224.64\"/>\n      </g>\n     </g>\n     <g id=\"text_2\">\n      <!-- −1 -->\n      <g transform=\"translate(135.989222 239.238437)scale(0.1 -0.1)\">\n       <defs>\n        <path d=\"M 12.40625 8.296875 \nL 28.515625 8.296875 \nL 28.515625 63.921875 \nL 10.984375 60.40625 \nL 10.984375 69.390625 \nL 28.421875 72.90625 \nL 38.28125 72.90625 \nL 38.28125 8.296875 \nL 54.390625 8.296875 \nL 54.390625 0 \nL 12.40625 0 \nz\n\" id=\"DejaVuSans-49\"/>\n       </defs>\n       <use xlink:href=\"#DejaVuSans-8722\"/>\n       <use x=\"83.789062\" xlink:href=\"#DejaVuSans-49\"/>\n      </g>\n     </g>\n    </g>\n    <g id=\"xtick_3\">\n     <g id=\"line2d_3\">\n      <g>\n       <use style=\"stroke:#000000;stroke-width:0.8;\" x=\"206.033526\" xlink:href=\"#m1cf4932c78\" y=\"224.64\"/>\n      </g>\n     </g>\n     <g id=\"text_3\">\n      <!-- 0 -->\n      <g transform=\"translate(202.852276 239.238437)scale(0.1 -0.1)\">\n       <defs>\n        <path d=\"M 31.78125 66.40625 \nQ 24.171875 66.40625 20.328125 58.90625 \nQ 16.5 51.421875 16.5 36.375 \nQ 16.5 21.390625 20.328125 13.890625 \nQ 24.171875 6.390625 31.78125 6.390625 \nQ 39.453125 6.390625 43.28125 13.890625 \nQ 47.125 21.390625 47.125 36.375 \nQ 47.125 51.421875 43.28125 58.90625 \nQ 39.453125 66.40625 31.78125 66.40625 \nz\nM 31.78125 74.21875 \nQ 44.046875 74.21875 50.515625 64.515625 \nQ 56.984375 54.828125 56.984375 36.375 \nQ 56.984375 17.96875 50.515625 8.265625 \nQ 44.046875 -1.421875 31.78125 -1.421875 \nQ 19.53125 -1.421875 13.0625 8.265625 \nQ 6.59375 17.96875 6.59375 36.375 \nQ 6.59375 54.828125 13.0625 64.515625 \nQ 19.53125 74.21875 31.78125 74.21875 \nz\n\" id=\"DejaVuSans-48\"/>\n       </defs>\n       <use xlink:href=\"#DejaVuSans-48\"/>\n      </g>\n     </g>\n    </g>\n    <g id=\"xtick_4\">\n     <g id=\"line2d_4\">\n      <g>\n       <use style=\"stroke:#000000;stroke-width:0.8;\" x=\"268.706736\" xlink:href=\"#m1cf4932c78\" y=\"224.64\"/>\n      </g>\n     </g>\n     <g id=\"text_4\">\n      <!-- 1 -->\n      <g transform=\"translate(265.525486 239.238437)scale(0.1 -0.1)\">\n       <use xlink:href=\"#DejaVuSans-49\"/>\n      </g>\n     </g>\n    </g>\n    <g id=\"xtick_5\">\n     <g id=\"line2d_5\">\n      <g>\n       <use style=\"stroke:#000000;stroke-width:0.8;\" x=\"331.379946\" xlink:href=\"#m1cf4932c78\" y=\"224.64\"/>\n      </g>\n     </g>\n     <g id=\"text_5\">\n      <!-- 2 -->\n      <g transform=\"translate(328.198696 239.238437)scale(0.1 -0.1)\">\n       <use xlink:href=\"#DejaVuSans-50\"/>\n      </g>\n     </g>\n    </g>\n   </g>\n   <g id=\"matplotlib.axis_2\">\n    <g id=\"ytick_1\">\n     <g id=\"line2d_6\">\n      <defs>\n       <path d=\"M 0 0 \nL -3.5 0 \n\" id=\"m78a7c5535b\" style=\"stroke:#000000;stroke-width:0.8;\"/>\n      </defs>\n      <g>\n       <use style=\"stroke:#000000;stroke-width:0.8;\" x=\"41.667188\" xlink:href=\"#m78a7c5535b\" y=\"197.460448\"/>\n      </g>\n     </g>\n     <g id=\"text_6\">\n      <!-- −150 -->\n      <g transform=\"translate(7.2 201.259667)scale(0.1 -0.1)\">\n       <defs>\n        <path d=\"M 10.796875 72.90625 \nL 49.515625 72.90625 \nL 49.515625 64.59375 \nL 19.828125 64.59375 \nL 19.828125 46.734375 \nQ 21.96875 47.46875 24.109375 47.828125 \nQ 26.265625 48.1875 28.421875 48.1875 \nQ 40.625 48.1875 47.75 41.5 \nQ 54.890625 34.8125 54.890625 23.390625 \nQ 54.890625 11.625 47.5625 5.09375 \nQ 40.234375 -1.421875 26.90625 -1.421875 \nQ 22.3125 -1.421875 17.546875 -0.640625 \nQ 12.796875 0.140625 7.71875 1.703125 \nL 7.71875 11.625 \nQ 12.109375 9.234375 16.796875 8.0625 \nQ 21.484375 6.890625 26.703125 6.890625 \nQ 35.15625 6.890625 40.078125 11.328125 \nQ 45.015625 15.765625 45.015625 23.390625 \nQ 45.015625 31 40.078125 35.4375 \nQ 35.15625 39.890625 26.703125 39.890625 \nQ 22.75 39.890625 18.8125 39.015625 \nQ 14.890625 38.140625 10.796875 36.28125 \nz\n\" id=\"DejaVuSans-53\"/>\n       </defs>\n       <use xlink:href=\"#DejaVuSans-8722\"/>\n       <use x=\"83.789062\" xlink:href=\"#DejaVuSans-49\"/>\n       <use x=\"147.412109\" xlink:href=\"#DejaVuSans-53\"/>\n       <use x=\"211.035156\" xlink:href=\"#DejaVuSans-48\"/>\n      </g>\n     </g>\n    </g>\n    <g id=\"ytick_2\">\n     <g id=\"line2d_7\">\n      <g>\n       <use style=\"stroke:#000000;stroke-width:0.8;\" x=\"41.667188\" xlink:href=\"#m78a7c5535b\" y=\"169.873848\"/>\n      </g>\n     </g>\n     <g id=\"text_7\">\n      <!-- −100 -->\n      <g transform=\"translate(7.2 173.673067)scale(0.1 -0.1)\">\n       <use xlink:href=\"#DejaVuSans-8722\"/>\n       <use x=\"83.789062\" xlink:href=\"#DejaVuSans-49\"/>\n       <use x=\"147.412109\" xlink:href=\"#DejaVuSans-48\"/>\n       <use x=\"211.035156\" xlink:href=\"#DejaVuSans-48\"/>\n      </g>\n     </g>\n    </g>\n    <g id=\"ytick_3\">\n     <g id=\"line2d_8\">\n      <g>\n       <use style=\"stroke:#000000;stroke-width:0.8;\" x=\"41.667188\" xlink:href=\"#m78a7c5535b\" y=\"142.287248\"/>\n      </g>\n     </g>\n     <g id=\"text_8\">\n      <!-- −50 -->\n      <g transform=\"translate(13.5625 146.086467)scale(0.1 -0.1)\">\n       <use xlink:href=\"#DejaVuSans-8722\"/>\n       <use x=\"83.789062\" xlink:href=\"#DejaVuSans-53\"/>\n       <use x=\"147.412109\" xlink:href=\"#DejaVuSans-48\"/>\n      </g>\n     </g>\n    </g>\n    <g id=\"ytick_4\">\n     <g id=\"line2d_9\">\n      <g>\n       <use style=\"stroke:#000000;stroke-width:0.8;\" x=\"41.667188\" xlink:href=\"#m78a7c5535b\" y=\"114.700648\"/>\n      </g>\n     </g>\n     <g id=\"text_9\">\n      <!-- 0 -->\n      <g transform=\"translate(28.304688 118.499867)scale(0.1 -0.1)\">\n       <use xlink:href=\"#DejaVuSans-48\"/>\n      </g>\n     </g>\n    </g>\n    <g id=\"ytick_5\">\n     <g id=\"line2d_10\">\n      <g>\n       <use style=\"stroke:#000000;stroke-width:0.8;\" x=\"41.667188\" xlink:href=\"#m78a7c5535b\" y=\"87.114049\"/>\n      </g>\n     </g>\n     <g id=\"text_10\">\n      <!-- 50 -->\n      <g transform=\"translate(21.942188 90.913267)scale(0.1 -0.1)\">\n       <use xlink:href=\"#DejaVuSans-53\"/>\n       <use x=\"63.623047\" xlink:href=\"#DejaVuSans-48\"/>\n      </g>\n     </g>\n    </g>\n    <g id=\"ytick_6\">\n     <g id=\"line2d_11\">\n      <g>\n       <use style=\"stroke:#000000;stroke-width:0.8;\" x=\"41.667188\" xlink:href=\"#m78a7c5535b\" y=\"59.527449\"/>\n      </g>\n     </g>\n     <g id=\"text_11\">\n      <!-- 100 -->\n      <g transform=\"translate(15.579688 63.326667)scale(0.1 -0.1)\">\n       <use xlink:href=\"#DejaVuSans-49\"/>\n       <use x=\"63.623047\" xlink:href=\"#DejaVuSans-48\"/>\n       <use x=\"127.246094\" xlink:href=\"#DejaVuSans-48\"/>\n      </g>\n     </g>\n    </g>\n    <g id=\"ytick_7\">\n     <g id=\"line2d_12\">\n      <g>\n       <use style=\"stroke:#000000;stroke-width:0.8;\" x=\"41.667188\" xlink:href=\"#m78a7c5535b\" y=\"31.940849\"/>\n      </g>\n     </g>\n     <g id=\"text_12\">\n      <!-- 150 -->\n      <g transform=\"translate(15.579688 35.740068)scale(0.1 -0.1)\">\n       <use xlink:href=\"#DejaVuSans-49\"/>\n       <use x=\"63.623047\" xlink:href=\"#DejaVuSans-53\"/>\n       <use x=\"127.246094\" xlink:href=\"#DejaVuSans-48\"/>\n      </g>\n     </g>\n    </g>\n   </g>\n   <g id=\"line2d_13\">\n    <defs>\n     <path d=\"M 0 3 \nC 0.795609 3 1.55874 2.683901 2.12132 2.12132 \nC 2.683901 1.55874 3 0.795609 3 0 \nC 3 -0.795609 2.683901 -1.55874 2.12132 -2.12132 \nC 1.55874 -2.683901 0.795609 -3 0 -3 \nC -0.795609 -3 -1.55874 -2.683901 -2.12132 -2.12132 \nC -2.683901 -1.55874 -3 -0.795609 -3 0 \nC -3 0.795609 -2.683901 1.55874 -2.12132 2.12132 \nC -1.55874 2.683901 -0.795609 3 0 3 \nz\n\" id=\"m80eb5d419e\" style=\"stroke:#ff0000;\"/>\n    </defs>\n    <g clip-path=\"url(#p1b697f6538)\">\n     <use style=\"fill:#ff0000;stroke:#ff0000;\" x=\"121.583863\" xlink:href=\"#m80eb5d419e\" y=\"184.356385\"/>\n     <use style=\"fill:#ff0000;stroke:#ff0000;\" x=\"228.116017\" xlink:href=\"#m80eb5d419e\" y=\"86.601617\"/>\n     <use style=\"fill:#ff0000;stroke:#ff0000;\" x=\"265.867552\" xlink:href=\"#m80eb5d419e\" y=\"79.856217\"/>\n     <use style=\"fill:#ff0000;stroke:#ff0000;\" x=\"208.285252\" xlink:href=\"#m80eb5d419e\" y=\"111.360066\"/>\n     <use style=\"fill:#ff0000;stroke:#ff0000;\" x=\"209.042231\" xlink:href=\"#m80eb5d419e\" y=\"117.861819\"/>\n     <use style=\"fill:#ff0000;stroke:#ff0000;\" x=\"209.079632\" xlink:href=\"#m80eb5d419e\" y=\"116.218969\"/>\n     <use style=\"fill:#ff0000;stroke:#ff0000;\" x=\"251.367666\" xlink:href=\"#m80eb5d419e\" y=\"82.312016\"/>\n     <use style=\"fill:#ff0000;stroke:#ff0000;\" x=\"256.302869\" xlink:href=\"#m80eb5d419e\" y=\"85.009947\"/>\n     <use style=\"fill:#ff0000;stroke:#ff0000;\" x=\"134.347997\" xlink:href=\"#m80eb5d419e\" y=\"167.303361\"/>\n     <use style=\"fill:#ff0000;stroke:#ff0000;\" x=\"217.277771\" xlink:href=\"#m80eb5d419e\" y=\"101.101489\"/>\n     <use style=\"fill:#ff0000;stroke:#ff0000;\" x=\"165.439663\" xlink:href=\"#m80eb5d419e\" y=\"147.482894\"/>\n     <use style=\"fill:#ff0000;stroke:#ff0000;\" x=\"136.290015\" xlink:href=\"#m80eb5d419e\" y=\"155.210741\"/>\n     <use style=\"fill:#ff0000;stroke:#ff0000;\" x=\"106.722983\" xlink:href=\"#m80eb5d419e\" y=\"172.170525\"/>\n     <use style=\"fill:#ff0000;stroke:#ff0000;\" x=\"200.519102\" xlink:href=\"#m80eb5d419e\" y=\"97.15134\"/>\n     <use style=\"fill:#ff0000;stroke:#ff0000;\" x=\"361.249006\" xlink:href=\"#m80eb5d419e\" y=\"20.269785\"/>\n     <use style=\"fill:#ff0000;stroke:#ff0000;\" x=\"160.140146\" xlink:href=\"#m80eb5d419e\" y=\"152.081575\"/>\n     <use style=\"fill:#ff0000;stroke:#ff0000;\" x=\"302.987686\" xlink:href=\"#m80eb5d419e\" y=\"36.648393\"/>\n     <use style=\"fill:#ff0000;stroke:#ff0000;\" x=\"197.841846\" xlink:href=\"#m80eb5d419e\" y=\"128.145016\"/>\n     <use style=\"fill:#ff0000;stroke:#ff0000;\" x=\"224.863412\" xlink:href=\"#m80eb5d419e\" y=\"115.866128\"/>\n     <use style=\"fill:#ff0000;stroke:#ff0000;\" x=\"146.846914\" xlink:href=\"#m80eb5d419e\" y=\"132.684811\"/>\n     <use style=\"fill:#ff0000;stroke:#ff0000;\" x=\"187.045801\" xlink:href=\"#m80eb5d419e\" y=\"130.929877\"/>\n     <use style=\"fill:#ff0000;stroke:#ff0000;\" x=\"182.565861\" xlink:href=\"#m80eb5d419e\" y=\"135.595545\"/>\n     <use style=\"fill:#ff0000;stroke:#ff0000;\" x=\"133.532137\" xlink:href=\"#m80eb5d419e\" y=\"170.921199\"/>\n     <use style=\"fill:#ff0000;stroke:#ff0000;\" x=\"243.548153\" xlink:href=\"#m80eb5d419e\" y=\"89.093179\"/>\n     <use style=\"fill:#ff0000;stroke:#ff0000;\" x=\"56.885369\" xlink:href=\"#m80eb5d419e\" y=\"214.756364\"/>\n     <use style=\"fill:#ff0000;stroke:#ff0000;\" x=\"167.948038\" xlink:href=\"#m80eb5d419e\" y=\"132.231378\"/>\n     <use style=\"fill:#ff0000;stroke:#ff0000;\" x=\"240.030691\" xlink:href=\"#m80eb5d419e\" y=\"101.386501\"/>\n     <use style=\"fill:#ff0000;stroke:#ff0000;\" x=\"332.784144\" xlink:href=\"#m80eb5d419e\" y=\"24.24758\"/>\n     <use style=\"fill:#ff0000;stroke:#ff0000;\" x=\"208.92499\" xlink:href=\"#m80eb5d419e\" y=\"108.756469\"/>\n     <use style=\"fill:#ff0000;stroke:#ff0000;\" x=\"238.827136\" xlink:href=\"#m80eb5d419e\" y=\"94.088539\"/>\n     <use style=\"fill:#ff0000;stroke:#ff0000;\" x=\"224.656319\" xlink:href=\"#m80eb5d419e\" y=\"114.159749\"/>\n     <use style=\"fill:#ff0000;stroke:#ff0000;\" x=\"109.333209\" xlink:href=\"#m80eb5d419e\" y=\"181.397175\"/>\n     <use style=\"fill:#ff0000;stroke:#ff0000;\" x=\"312.099017\" xlink:href=\"#m80eb5d419e\" y=\"38.451624\"/>\n     <use style=\"fill:#ff0000;stroke:#ff0000;\" x=\"219.151874\" xlink:href=\"#m80eb5d419e\" y=\"109.623236\"/>\n     <use style=\"fill:#ff0000;stroke:#ff0000;\" x=\"179.817226\" xlink:href=\"#m80eb5d419e\" y=\"123.642508\"/>\n     <use style=\"fill:#ff0000;stroke:#ff0000;\" x=\"260.611976\" xlink:href=\"#m80eb5d419e\" y=\"96.37372\"/>\n     <use style=\"fill:#ff0000;stroke:#ff0000;\" x=\"134.117481\" xlink:href=\"#m80eb5d419e\" y=\"139.868999\"/>\n     <use style=\"fill:#ff0000;stroke:#ff0000;\" x=\"195.052519\" xlink:href=\"#m80eb5d419e\" y=\"115.681401\"/>\n     <use style=\"fill:#ff0000;stroke:#ff0000;\" x=\"145.755886\" xlink:href=\"#m80eb5d419e\" y=\"172.943045\"/>\n     <use style=\"fill:#ff0000;stroke:#ff0000;\" x=\"217.856589\" xlink:href=\"#m80eb5d419e\" y=\"111.796361\"/>\n     <use style=\"fill:#ff0000;stroke:#ff0000;\" x=\"281.366887\" xlink:href=\"#m80eb5d419e\" y=\"65.266624\"/>\n     <use style=\"fill:#ff0000;stroke:#ff0000;\" x=\"330.758417\" xlink:href=\"#m80eb5d419e\" y=\"34.090946\"/>\n     <use style=\"fill:#ff0000;stroke:#ff0000;\" x=\"120.737443\" xlink:href=\"#m80eb5d419e\" y=\"157.61825\"/>\n     <use style=\"fill:#ff0000;stroke:#ff0000;\" x=\"202.614156\" xlink:href=\"#m80eb5d419e\" y=\"116.80216\"/>\n     <use style=\"fill:#ff0000;stroke:#ff0000;\" x=\"278.996897\" xlink:href=\"#m80eb5d419e\" y=\"81.148745\"/>\n     <use style=\"fill:#ff0000;stroke:#ff0000;\" x=\"114.810517\" xlink:href=\"#m80eb5d419e\" y=\"168.330494\"/>\n     <use style=\"fill:#ff0000;stroke:#ff0000;\" x=\"207.229955\" xlink:href=\"#m80eb5d419e\" y=\"115.340599\"/>\n     <use style=\"fill:#ff0000;stroke:#ff0000;\" x=\"157.227395\" xlink:href=\"#m80eb5d419e\" y=\"138.912006\"/>\n     <use style=\"fill:#ff0000;stroke:#ff0000;\" x=\"208.386747\" xlink:href=\"#m80eb5d419e\" y=\"106.014851\"/>\n     <use style=\"fill:#ff0000;stroke:#ff0000;\" x=\"184.34221\" xlink:href=\"#m80eb5d419e\" y=\"128.093648\"/>\n     <use style=\"fill:#ff0000;stroke:#ff0000;\" x=\"165.219112\" xlink:href=\"#m80eb5d419e\" y=\"164.688385\"/>\n     <use style=\"fill:#ff0000;stroke:#ff0000;\" x=\"215.96532\" xlink:href=\"#m80eb5d419e\" y=\"125.223913\"/>\n     <use style=\"fill:#ff0000;stroke:#ff0000;\" x=\"130.264863\" xlink:href=\"#m80eb5d419e\" y=\"170.861457\"/>\n     <use style=\"fill:#ff0000;stroke:#ff0000;\" x=\"165.443564\" xlink:href=\"#m80eb5d419e\" y=\"145.901866\"/>\n     <use style=\"fill:#ff0000;stroke:#ff0000;\" x=\"263.369545\" xlink:href=\"#m80eb5d419e\" y=\"85.916957\"/>\n     <use style=\"fill:#ff0000;stroke:#ff0000;\" x=\"90.659925\" xlink:href=\"#m80eb5d419e\" y=\"202.031376\"/>\n     <use style=\"fill:#ff0000;stroke:#ff0000;\" x=\"237.367081\" xlink:href=\"#m80eb5d419e\" y=\"79.092038\"/>\n     <use style=\"fill:#ff0000;stroke:#ff0000;\" x=\"285.742481\" xlink:href=\"#m80eb5d419e\" y=\"68.067692\"/>\n     <use style=\"fill:#ff0000;stroke:#ff0000;\" x=\"249.503571\" xlink:href=\"#m80eb5d419e\" y=\"78.046695\"/>\n     <use style=\"fill:#ff0000;stroke:#ff0000;\" x=\"240.891439\" xlink:href=\"#m80eb5d419e\" y=\"94.360506\"/>\n     <use style=\"fill:#ff0000;stroke:#ff0000;\" x=\"232.674177\" xlink:href=\"#m80eb5d419e\" y=\"94.045019\"/>\n     <use style=\"fill:#ff0000;stroke:#ff0000;\" x=\"137.273375\" xlink:href=\"#m80eb5d419e\" y=\"160.448684\"/>\n     <use style=\"fill:#ff0000;stroke:#ff0000;\" x=\"170.630977\" xlink:href=\"#m80eb5d419e\" y=\"126.517819\"/>\n     <use style=\"fill:#ff0000;stroke:#ff0000;\" x=\"228.031644\" xlink:href=\"#m80eb5d419e\" y=\"117.759166\"/>\n     <use style=\"fill:#ff0000;stroke:#ff0000;\" x=\"258.54342\" xlink:href=\"#m80eb5d419e\" y=\"81.660445\"/>\n     <use style=\"fill:#ff0000;stroke:#ff0000;\" x=\"209.445\" xlink:href=\"#m80eb5d419e\" y=\"110.077968\"/>\n     <use style=\"fill:#ff0000;stroke:#ff0000;\" x=\"205.446898\" xlink:href=\"#m80eb5d419e\" y=\"124.17739\"/>\n     <use style=\"fill:#ff0000;stroke:#ff0000;\" x=\"58.245481\" xlink:href=\"#m80eb5d419e\" y=\"203.258574\"/>\n     <use style=\"fill:#ff0000;stroke:#ff0000;\" x=\"144.426283\" xlink:href=\"#m80eb5d419e\" y=\"170.280573\"/>\n     <use style=\"fill:#ff0000;stroke:#ff0000;\" x=\"264.611046\" xlink:href=\"#m80eb5d419e\" y=\"70.394716\"/>\n     <use style=\"fill:#ff0000;stroke:#ff0000;\" x=\"255.87339\" xlink:href=\"#m80eb5d419e\" y=\"76.272754\"/>\n     <use style=\"fill:#ff0000;stroke:#ff0000;\" x=\"237.991835\" xlink:href=\"#m80eb5d419e\" y=\"99.172463\"/>\n     <use style=\"fill:#ff0000;stroke:#ff0000;\" x=\"195.287288\" xlink:href=\"#m80eb5d419e\" y=\"109.314063\"/>\n     <use style=\"fill:#ff0000;stroke:#ff0000;\" x=\"216.054529\" xlink:href=\"#m80eb5d419e\" y=\"92.010684\"/>\n     <use style=\"fill:#ff0000;stroke:#ff0000;\" x=\"345.378648\" xlink:href=\"#m80eb5d419e\" y=\"17.083636\"/>\n     <use style=\"fill:#ff0000;stroke:#ff0000;\" x=\"226.856897\" xlink:href=\"#m80eb5d419e\" y=\"109.426191\"/>\n     <use style=\"fill:#ff0000;stroke:#ff0000;\" x=\"209.20239\" xlink:href=\"#m80eb5d419e\" y=\"117.130825\"/>\n     <use style=\"fill:#ff0000;stroke:#ff0000;\" x=\"172.929782\" xlink:href=\"#m80eb5d419e\" y=\"127.961997\"/>\n     <use style=\"fill:#ff0000;stroke:#ff0000;\" x=\"233.000011\" xlink:href=\"#m80eb5d419e\" y=\"104.123887\"/>\n     <use style=\"fill:#ff0000;stroke:#ff0000;\" x=\"308.551075\" xlink:href=\"#m80eb5d419e\" y=\"58.157349\"/>\n     <use style=\"fill:#ff0000;stroke:#ff0000;\" x=\"255.332416\" xlink:href=\"#m80eb5d419e\" y=\"58.688329\"/>\n     <use style=\"fill:#ff0000;stroke:#ff0000;\" x=\"167.997951\" xlink:href=\"#m80eb5d419e\" y=\"146.984244\"/>\n     <use style=\"fill:#ff0000;stroke:#ff0000;\" x=\"230.745273\" xlink:href=\"#m80eb5d419e\" y=\"104.941784\"/>\n     <use style=\"fill:#ff0000;stroke:#ff0000;\" x=\"255.953483\" xlink:href=\"#m80eb5d419e\" y=\"79.911922\"/>\n     <use style=\"fill:#ff0000;stroke:#ff0000;\" x=\"138.641644\" xlink:href=\"#m80eb5d419e\" y=\"171.179953\"/>\n     <use style=\"fill:#ff0000;stroke:#ff0000;\" x=\"193.702867\" xlink:href=\"#m80eb5d419e\" y=\"115.615732\"/>\n     <use style=\"fill:#ff0000;stroke:#ff0000;\" x=\"258.461465\" xlink:href=\"#m80eb5d419e\" y=\"79.024198\"/>\n     <use style=\"fill:#ff0000;stroke:#ff0000;\" x=\"174.958987\" xlink:href=\"#m80eb5d419e\" y=\"139.048533\"/>\n     <use style=\"fill:#ff0000;stroke:#ff0000;\" x=\"292.517548\" xlink:href=\"#m80eb5d419e\" y=\"49.598158\"/>\n     <use style=\"fill:#ff0000;stroke:#ff0000;\" x=\"210.26215\" xlink:href=\"#m80eb5d419e\" y=\"117.256095\"/>\n     <use style=\"fill:#ff0000;stroke:#ff0000;\" x=\"143.616716\" xlink:href=\"#m80eb5d419e\" y=\"157.026572\"/>\n     <use style=\"fill:#ff0000;stroke:#ff0000;\" x=\"149.286811\" xlink:href=\"#m80eb5d419e\" y=\"151.822053\"/>\n     <use style=\"fill:#ff0000;stroke:#ff0000;\" x=\"188.722975\" xlink:href=\"#m80eb5d419e\" y=\"121.57763\"/>\n     <use style=\"fill:#ff0000;stroke:#ff0000;\" x=\"221.241817\" xlink:href=\"#m80eb5d419e\" y=\"101.295023\"/>\n     <use style=\"fill:#ff0000;stroke:#ff0000;\" x=\"237.983003\" xlink:href=\"#m80eb5d419e\" y=\"97.359049\"/>\n     <use style=\"fill:#ff0000;stroke:#ff0000;\" x=\"226.856702\" xlink:href=\"#m80eb5d419e\" y=\"95.698401\"/>\n     <use style=\"fill:#ff0000;stroke:#ff0000;\" x=\"136.743024\" xlink:href=\"#m80eb5d419e\" y=\"155.952659\"/>\n     <use style=\"fill:#ff0000;stroke:#ff0000;\" x=\"336.887096\" xlink:href=\"#m80eb5d419e\" y=\"25.873992\"/>\n     <use style=\"fill:#ff0000;stroke:#ff0000;\" x=\"223.636216\" xlink:href=\"#m80eb5d419e\" y=\"92.246411\"/>\n     <use style=\"fill:#ff0000;stroke:#ff0000;\" x=\"244.807541\" xlink:href=\"#m80eb5d419e\" y=\"96.254031\"/>\n    </g>\n   </g>\n   <g id=\"patch_3\">\n    <path d=\"M 41.667188 224.64 \nL 41.667188 7.2 \n\" style=\"fill:none;stroke:#000000;stroke-linecap:square;stroke-linejoin:miter;stroke-width:0.8;\"/>\n   </g>\n   <g id=\"patch_4\">\n    <path d=\"M 376.467188 224.64 \nL 376.467188 7.2 \n\" style=\"fill:none;stroke:#000000;stroke-linecap:square;stroke-linejoin:miter;stroke-width:0.8;\"/>\n   </g>\n   <g id=\"patch_5\">\n    <path d=\"M 41.667188 224.64 \nL 376.467188 224.64 \n\" style=\"fill:none;stroke:#000000;stroke-linecap:square;stroke-linejoin:miter;stroke-width:0.8;\"/>\n   </g>\n   <g id=\"patch_6\">\n    <path d=\"M 41.667188 7.2 \nL 376.467188 7.2 \n\" style=\"fill:none;stroke:#000000;stroke-linecap:square;stroke-linejoin:miter;stroke-width:0.8;\"/>\n   </g>\n  </g>\n </g>\n <defs>\n  <clipPath id=\"p1b697f6538\">\n   <rect height=\"217.44\" width=\"334.8\" x=\"41.667188\" y=\"7.2\"/>\n  </clipPath>\n </defs>\n</svg>\n",
      "image/png": "[encoded data removed]"
     },
     "metadata": {
      "needs_background": "light"
     }
    },
    {
     "output_type": "stream",
     "name": "stdout",
     "text": "torch.Size([100, 1])\ntorch.float32\ntorch.float32\n"
    }
   ],
   "metadata": {}
  },
  {
   "cell_type": "markdown",
   "source": [
    "## 1) Creating the linear model\n",
    "You can do this using a the `nn.Linear`. This corresponds to multiplying with a matrix of beta coefficients (or weights in a neural network sense) and adding a bias. \n",
    "\n",
    "> Actually if you are very pedantic it is not really a linear transformation but an *affine* transformation, but it corresponds to what we think of as linear (regression)."
   ],
   "metadata": {}
  },
  {
   "cell_type": "code",
   "execution_count": 10,
   "source": [
    "from torch import nn\n",
    "# 1) Model\n",
    "# Linear model f = wx + b\n",
    "input_size = n_features \n",
    "output_size = 1 #each input-value is only mapped to one output-value --> 1:1 \n",
    "model = nn.Linear(input_size, output_size)"
   ],
   "outputs": [],
   "metadata": {}
  },
  {
   "cell_type": "markdown",
   "source": [
    "# 2) Loss and optimizer\n",
    "Here we will create the optimizer, note we use `model.parameters` to get a list to get all of the parameters of the model.\n",
    "\n",
    "We also use the `MSELoss()` as our criterion to minimize. It is simply the mean squared error (MSE) which you are used to from regression."
   ],
   "metadata": {}
  },
  {
   "cell_type": "code",
   "execution_count": 15,
   "source": [
    "learning_rate = 0.01 # feel free to change this\n",
    "\n",
    "print(list(model.parameters())) # only two parameters a beta and an intercept\n",
    "\n",
    "criterion = nn.MSELoss() #Optimize mean squared error, not gradient (because in linear regression, it will just continue forever)\n",
    "optimizer = torch.optim.SGD(model.parameters(), lr=learning_rate)  "
   ],
   "outputs": [
    {
     "output_type": "stream",
     "name": "stdout",
     "text": "[Parameter containing:\ntensor([[0.9679]], requires_grad=True), Parameter containing:\ntensor([-0.7767], requires_grad=True)]\n"
    }
   ],
   "metadata": {}
  },
  {
   "cell_type": "markdown",
   "source": [
    "## 3) Training loop\n",
    "Well this is essentially the same as before:"
   ],
   "metadata": {}
  },
  {
   "cell_type": "code",
   "execution_count": 16,
   "source": [
    "epochs = 500\n",
    "for epoch in range(epochs):\n",
    "    # Forward pass / calc predicted y\n",
    "    y_predicted = model(X)\n",
    "\n",
    "    # calucate loss / MSE\n",
    "    loss = criterion(y_predicted, y)\n",
    "    \n",
    "    # Backward pass / gradient and update\n",
    "    loss.backward()\n",
    "    optimizer.step()\n",
    "\n",
    "    # zero grad before new step\n",
    "    optimizer.zero_grad()\n",
    "\n",
    "    # some print to see that it is running\n",
    "    if epoch == 0:\n",
    "        print(f'epoch: {epoch}, loss = {loss.item():.4f}')\n",
    "    elif (epoch+1) % 100 == 0:\n",
    "        print(f'epoch: {epoch+1}, loss = {loss.item():.4f}')"
   ],
   "outputs": [
    {
     "output_type": "stream",
     "name": "stdout",
     "text": "epoch: 0, loss = 5477.4390\nepoch: 100, loss = 407.8421\nepoch: 200, loss = 292.7753\nepoch: 300, loss = 290.2187\nepoch: 400, loss = 290.1610\nepoch: 500, loss = 290.1598\n"
    }
   ],
   "metadata": {}
  },
  {
   "cell_type": "code",
   "execution_count": 17,
   "source": [
    "# Plot\n",
    "predicted = model(X).detach().numpy()\n",
    "\n",
    "plt.plot(X_numpy, y_numpy, 'ro')\n",
    "plt.plot(X_numpy, predicted, 'b')\n",
    "plt.show()"
   ],
   "outputs": [
    {
     "output_type": "display_data",
     "data": {
      "text/plain": "<Figure size 432x288 with 1 Axes>",
      "image/svg+xml": "<?xml version=\"1.0\" encoding=\"utf-8\" standalone=\"no\"?>\n<!DOCTYPE svg PUBLIC \"-//W3C//DTD SVG 1.1//EN\"\n  \"http://www.w3.org/Graphics/SVG/1.1/DTD/svg11.dtd\">\n<!-- Created with matplotlib (https://matplotlib.org/) -->\n<svg height=\"250.451559pt\" version=\"1.1\" viewBox=\"0 0 383.667187 250.451559\" width=\"383.667187pt\" xmlns=\"http://www.w3.org/2000/svg\" xmlns:xlink=\"http://www.w3.org/1999/xlink\">\n <metadata>\n  <rdf:RDF xmlns:cc=\"http://creativecommons.org/ns#\" xmlns:dc=\"http://purl.org/dc/elements/1.1/\" xmlns:rdf=\"http://www.w3.org/1999/02/22-rdf-syntax-ns#\">\n   <cc:Work>\n    <dc:type rdf:resource=\"http://purl.org/dc/dcmitype/StillImage\"/>\n    <dc:date>2021-09-30T13:45:37.157886</dc:date>\n    <dc:format>image/svg+xml</dc:format>\n    <dc:creator>\n     <cc:Agent>\n      <dc:title>Matplotlib v3.3.1, https://matplotlib.org/</dc:title>\n     </cc:Agent>\n    </dc:creator>\n   </cc:Work>\n  </rdf:RDF>\n </metadata>\n <defs>\n  <style type=\"text/css\">*{stroke-linecap:butt;stroke-linejoin:round;}</style>\n </defs>\n <g id=\"figure_1\">\n  <g id=\"patch_1\">\n   <path d=\"M 0 250.451559 \nL 383.667187 250.451559 \nL 383.667187 0 \nL 0 0 \nz\n\" style=\"fill:none;\"/>\n  </g>\n  <g id=\"axes_1\">\n   <g id=\"patch_2\">\n    <path d=\"M 41.667188 226.573434 \nL 376.467188 226.573434 \nL 376.467188 9.133434 \nL 41.667188 9.133434 \nz\n\" style=\"fill:#ffffff;\"/>\n   </g>\n   <g id=\"matplotlib.axis_1\">\n    <g id=\"xtick_1\">\n     <g id=\"line2d_1\">\n      <defs>\n       <path d=\"M 0 0 \nL 0 3.5 \n\" id=\"m38c79c3a62\" style=\"stroke:#000000;stroke-width:0.8;\"/>\n      </defs>\n      <g>\n       <use style=\"stroke:#000000;stroke-width:0.8;\" x=\"80.687105\" xlink:href=\"#m38c79c3a62\" y=\"226.573434\"/>\n      </g>\n     </g>\n     <g id=\"text_1\">\n      <!-- −2 -->\n      <g transform=\"translate(73.316011 241.171871)scale(0.1 -0.1)\">\n       <defs>\n        <path d=\"M 10.59375 35.5 \nL 73.1875 35.5 \nL 73.1875 27.203125 \nL 10.59375 27.203125 \nz\n\" id=\"DejaVuSans-8722\"/>\n        <path d=\"M 19.1875 8.296875 \nL 53.609375 8.296875 \nL 53.609375 0 \nL 7.328125 0 \nL 7.328125 8.296875 \nQ 12.9375 14.109375 22.625 23.890625 \nQ 32.328125 33.6875 34.8125 36.53125 \nQ 39.546875 41.84375 41.421875 45.53125 \nQ 43.3125 49.21875 43.3125 52.78125 \nQ 43.3125 58.59375 39.234375 62.25 \nQ 35.15625 65.921875 28.609375 65.921875 \nQ 23.96875 65.921875 18.8125 64.3125 \nQ 13.671875 62.703125 7.8125 59.421875 \nL 7.8125 69.390625 \nQ 13.765625 71.78125 18.9375 73 \nQ 24.125 74.21875 28.421875 74.21875 \nQ 39.75 74.21875 46.484375 68.546875 \nQ 53.21875 62.890625 53.21875 53.421875 \nQ 53.21875 48.921875 51.53125 44.890625 \nQ 49.859375 40.875 45.40625 35.40625 \nQ 44.1875 33.984375 37.640625 27.21875 \nQ 31.109375 20.453125 19.1875 8.296875 \nz\n\" id=\"DejaVuSans-50\"/>\n       </defs>\n       <use xlink:href=\"#DejaVuSans-8722\"/>\n       <use x=\"83.789062\" xlink:href=\"#DejaVuSans-50\"/>\n      </g>\n     </g>\n    </g>\n    <g id=\"xtick_2\">\n     <g id=\"line2d_2\">\n      <g>\n       <use style=\"stroke:#000000;stroke-width:0.8;\" x=\"143.360315\" xlink:href=\"#m38c79c3a62\" y=\"226.573434\"/>\n      </g>\n     </g>\n     <g id=\"text_2\">\n      <!-- −1 -->\n      <g transform=\"translate(135.989222 241.171871)scale(0.1 -0.1)\">\n       <defs>\n        <path d=\"M 12.40625 8.296875 \nL 28.515625 8.296875 \nL 28.515625 63.921875 \nL 10.984375 60.40625 \nL 10.984375 69.390625 \nL 28.421875 72.90625 \nL 38.28125 72.90625 \nL 38.28125 8.296875 \nL 54.390625 8.296875 \nL 54.390625 0 \nL 12.40625 0 \nz\n\" id=\"DejaVuSans-49\"/>\n       </defs>\n       <use xlink:href=\"#DejaVuSans-8722\"/>\n       <use x=\"83.789062\" xlink:href=\"#DejaVuSans-49\"/>\n      </g>\n     </g>\n    </g>\n    <g id=\"xtick_3\">\n     <g id=\"line2d_3\">\n      <g>\n       <use style=\"stroke:#000000;stroke-width:0.8;\" x=\"206.033526\" xlink:href=\"#m38c79c3a62\" y=\"226.573434\"/>\n      </g>\n     </g>\n     <g id=\"text_3\">\n      <!-- 0 -->\n      <g transform=\"translate(202.852276 241.171871)scale(0.1 -0.1)\">\n       <defs>\n        <path d=\"M 31.78125 66.40625 \nQ 24.171875 66.40625 20.328125 58.90625 \nQ 16.5 51.421875 16.5 36.375 \nQ 16.5 21.390625 20.328125 13.890625 \nQ 24.171875 6.390625 31.78125 6.390625 \nQ 39.453125 6.390625 43.28125 13.890625 \nQ 47.125 21.390625 47.125 36.375 \nQ 47.125 51.421875 43.28125 58.90625 \nQ 39.453125 66.40625 31.78125 66.40625 \nz\nM 31.78125 74.21875 \nQ 44.046875 74.21875 50.515625 64.515625 \nQ 56.984375 54.828125 56.984375 36.375 \nQ 56.984375 17.96875 50.515625 8.265625 \nQ 44.046875 -1.421875 31.78125 -1.421875 \nQ 19.53125 -1.421875 13.0625 8.265625 \nQ 6.59375 17.96875 6.59375 36.375 \nQ 6.59375 54.828125 13.0625 64.515625 \nQ 19.53125 74.21875 31.78125 74.21875 \nz\n\" id=\"DejaVuSans-48\"/>\n       </defs>\n       <use xlink:href=\"#DejaVuSans-48\"/>\n      </g>\n     </g>\n    </g>\n    <g id=\"xtick_4\">\n     <g id=\"line2d_4\">\n      <g>\n       <use style=\"stroke:#000000;stroke-width:0.8;\" x=\"268.706736\" xlink:href=\"#m38c79c3a62\" y=\"226.573434\"/>\n      </g>\n     </g>\n     <g id=\"text_4\">\n      <!-- 1 -->\n      <g transform=\"translate(265.525486 241.171871)scale(0.1 -0.1)\">\n       <use xlink:href=\"#DejaVuSans-49\"/>\n      </g>\n     </g>\n    </g>\n    <g id=\"xtick_5\">\n     <g id=\"line2d_5\">\n      <g>\n       <use style=\"stroke:#000000;stroke-width:0.8;\" x=\"331.379946\" xlink:href=\"#m38c79c3a62\" y=\"226.573434\"/>\n      </g>\n     </g>\n     <g id=\"text_5\">\n      <!-- 2 -->\n      <g transform=\"translate(328.198696 241.171871)scale(0.1 -0.1)\">\n       <use xlink:href=\"#DejaVuSans-50\"/>\n      </g>\n     </g>\n    </g>\n   </g>\n   <g id=\"matplotlib.axis_2\">\n    <g id=\"ytick_1\">\n     <g id=\"line2d_6\">\n      <defs>\n       <path d=\"M 0 0 \nL -3.5 0 \n\" id=\"m0f24e5fdd3\" style=\"stroke:#000000;stroke-width:0.8;\"/>\n      </defs>\n      <g>\n       <use style=\"stroke:#000000;stroke-width:0.8;\" x=\"41.667188\" xlink:href=\"#m0f24e5fdd3\" y=\"199.781189\"/>\n      </g>\n     </g>\n     <g id=\"text_6\">\n      <!-- −150 -->\n      <g transform=\"translate(7.2 203.580408)scale(0.1 -0.1)\">\n       <defs>\n        <path d=\"M 10.796875 72.90625 \nL 49.515625 72.90625 \nL 49.515625 64.59375 \nL 19.828125 64.59375 \nL 19.828125 46.734375 \nQ 21.96875 47.46875 24.109375 47.828125 \nQ 26.265625 48.1875 28.421875 48.1875 \nQ 40.625 48.1875 47.75 41.5 \nQ 54.890625 34.8125 54.890625 23.390625 \nQ 54.890625 11.625 47.5625 5.09375 \nQ 40.234375 -1.421875 26.90625 -1.421875 \nQ 22.3125 -1.421875 17.546875 -0.640625 \nQ 12.796875 0.140625 7.71875 1.703125 \nL 7.71875 11.625 \nQ 12.109375 9.234375 16.796875 8.0625 \nQ 21.484375 6.890625 26.703125 6.890625 \nQ 35.15625 6.890625 40.078125 11.328125 \nQ 45.015625 15.765625 45.015625 23.390625 \nQ 45.015625 31 40.078125 35.4375 \nQ 35.15625 39.890625 26.703125 39.890625 \nQ 22.75 39.890625 18.8125 39.015625 \nQ 14.890625 38.140625 10.796875 36.28125 \nz\n\" id=\"DejaVuSans-53\"/>\n       </defs>\n       <use xlink:href=\"#DejaVuSans-8722\"/>\n       <use x=\"83.789062\" xlink:href=\"#DejaVuSans-49\"/>\n       <use x=\"147.412109\" xlink:href=\"#DejaVuSans-53\"/>\n       <use x=\"211.035156\" xlink:href=\"#DejaVuSans-48\"/>\n      </g>\n     </g>\n    </g>\n    <g id=\"ytick_2\">\n     <g id=\"line2d_7\">\n      <g>\n       <use style=\"stroke:#000000;stroke-width:0.8;\" x=\"41.667188\" xlink:href=\"#m0f24e5fdd3\" y=\"172.812336\"/>\n      </g>\n     </g>\n     <g id=\"text_7\">\n      <!-- −100 -->\n      <g transform=\"translate(7.2 176.611555)scale(0.1 -0.1)\">\n       <use xlink:href=\"#DejaVuSans-8722\"/>\n       <use x=\"83.789062\" xlink:href=\"#DejaVuSans-49\"/>\n       <use x=\"147.412109\" xlink:href=\"#DejaVuSans-48\"/>\n       <use x=\"211.035156\" xlink:href=\"#DejaVuSans-48\"/>\n      </g>\n     </g>\n    </g>\n    <g id=\"ytick_3\">\n     <g id=\"line2d_8\">\n      <g>\n       <use style=\"stroke:#000000;stroke-width:0.8;\" x=\"41.667188\" xlink:href=\"#m0f24e5fdd3\" y=\"145.843483\"/>\n      </g>\n     </g>\n     <g id=\"text_8\">\n      <!-- −50 -->\n      <g transform=\"translate(13.5625 149.642702)scale(0.1 -0.1)\">\n       <use xlink:href=\"#DejaVuSans-8722\"/>\n       <use x=\"83.789062\" xlink:href=\"#DejaVuSans-53\"/>\n       <use x=\"147.412109\" xlink:href=\"#DejaVuSans-48\"/>\n      </g>\n     </g>\n    </g>\n    <g id=\"ytick_4\">\n     <g id=\"line2d_9\">\n      <g>\n       <use style=\"stroke:#000000;stroke-width:0.8;\" x=\"41.667188\" xlink:href=\"#m0f24e5fdd3\" y=\"118.87463\"/>\n      </g>\n     </g>\n     <g id=\"text_9\">\n      <!-- 0 -->\n      <g transform=\"translate(28.304688 122.673849)scale(0.1 -0.1)\">\n       <use xlink:href=\"#DejaVuSans-48\"/>\n      </g>\n     </g>\n    </g>\n    <g id=\"ytick_5\">\n     <g id=\"line2d_10\">\n      <g>\n       <use style=\"stroke:#000000;stroke-width:0.8;\" x=\"41.667188\" xlink:href=\"#m0f24e5fdd3\" y=\"91.905778\"/>\n      </g>\n     </g>\n     <g id=\"text_10\">\n      <!-- 50 -->\n      <g transform=\"translate(21.942188 95.704996)scale(0.1 -0.1)\">\n       <use xlink:href=\"#DejaVuSans-53\"/>\n       <use x=\"63.623047\" xlink:href=\"#DejaVuSans-48\"/>\n      </g>\n     </g>\n    </g>\n    <g id=\"ytick_6\">\n     <g id=\"line2d_11\">\n      <g>\n       <use style=\"stroke:#000000;stroke-width:0.8;\" x=\"41.667188\" xlink:href=\"#m0f24e5fdd3\" y=\"64.936925\"/>\n      </g>\n     </g>\n     <g id=\"text_11\">\n      <!-- 100 -->\n      <g transform=\"translate(15.579688 68.736143)scale(0.1 -0.1)\">\n       <use xlink:href=\"#DejaVuSans-49\"/>\n       <use x=\"63.623047\" xlink:href=\"#DejaVuSans-48\"/>\n       <use x=\"127.246094\" xlink:href=\"#DejaVuSans-48\"/>\n      </g>\n     </g>\n    </g>\n    <g id=\"ytick_7\">\n     <g id=\"line2d_12\">\n      <g>\n       <use style=\"stroke:#000000;stroke-width:0.8;\" x=\"41.667188\" xlink:href=\"#m0f24e5fdd3\" y=\"37.968072\"/>\n      </g>\n     </g>\n     <g id=\"text_12\">\n      <!-- 150 -->\n      <g transform=\"translate(15.579688 41.76729)scale(0.1 -0.1)\">\n       <use xlink:href=\"#DejaVuSans-49\"/>\n       <use x=\"63.623047\" xlink:href=\"#DejaVuSans-53\"/>\n       <use x=\"127.246094\" xlink:href=\"#DejaVuSans-48\"/>\n      </g>\n     </g>\n    </g>\n    <g id=\"ytick_8\">\n     <g id=\"line2d_13\">\n      <g>\n       <use style=\"stroke:#000000;stroke-width:0.8;\" x=\"41.667188\" xlink:href=\"#m0f24e5fdd3\" y=\"10.999219\"/>\n      </g>\n     </g>\n     <g id=\"text_13\">\n      <!-- 200 -->\n      <g transform=\"translate(15.579688 14.798437)scale(0.1 -0.1)\">\n       <use xlink:href=\"#DejaVuSans-50\"/>\n       <use x=\"63.623047\" xlink:href=\"#DejaVuSans-48\"/>\n       <use x=\"127.246094\" xlink:href=\"#DejaVuSans-48\"/>\n      </g>\n     </g>\n    </g>\n   </g>\n   <g id=\"line2d_14\">\n    <defs>\n     <path d=\"M 0 3 \nC 0.795609 3 1.55874 2.683901 2.12132 2.12132 \nC 2.683901 1.55874 3 0.795609 3 0 \nC 3 -0.795609 2.683901 -1.55874 2.12132 -2.12132 \nC 1.55874 -2.683901 0.795609 -3 0 -3 \nC -0.795609 -3 -1.55874 -2.683901 -2.12132 -2.12132 \nC -2.683901 -1.55874 -3 -0.795609 -3 0 \nC -3 0.795609 -2.683901 1.55874 -2.12132 2.12132 \nC -1.55874 2.683901 -0.795609 3 0 3 \nz\n\" id=\"mf7f41dcacd\" style=\"stroke:#ff0000;\"/>\n    </defs>\n    <g clip-path=\"url(#p388c16df47)\">\n     <use style=\"fill:#ff0000;stroke:#ff0000;\" x=\"121.583863\" xlink:href=\"#mf7f41dcacd\" y=\"186.970566\"/>\n     <use style=\"fill:#ff0000;stroke:#ff0000;\" x=\"228.116017\" xlink:href=\"#mf7f41dcacd\" y=\"91.404821\"/>\n     <use style=\"fill:#ff0000;stroke:#ff0000;\" x=\"265.867552\" xlink:href=\"#mf7f41dcacd\" y=\"84.81047\"/>\n     <use style=\"fill:#ff0000;stroke:#ff0000;\" x=\"208.285252\" xlink:href=\"#mf7f41dcacd\" y=\"115.608853\"/>\n     <use style=\"fill:#ff0000;stroke:#ff0000;\" x=\"209.042231\" xlink:href=\"#mf7f41dcacd\" y=\"121.965013\"/>\n     <use style=\"fill:#ff0000;stroke:#ff0000;\" x=\"209.079632\" xlink:href=\"#mf7f41dcacd\" y=\"120.358952\"/>\n     <use style=\"fill:#ff0000;stroke:#ff0000;\" x=\"251.367666\" xlink:href=\"#mf7f41dcacd\" y=\"87.211277\"/>\n     <use style=\"fill:#ff0000;stroke:#ff0000;\" x=\"256.302869\" xlink:href=\"#mf7f41dcacd\" y=\"89.848793\"/>\n     <use style=\"fill:#ff0000;stroke:#ff0000;\" x=\"134.347997\" xlink:href=\"#mf7f41dcacd\" y=\"170.29941\"/>\n     <use style=\"fill:#ff0000;stroke:#ff0000;\" x=\"217.277771\" xlink:href=\"#mf7f41dcacd\" y=\"105.579997\"/>\n     <use style=\"fill:#ff0000;stroke:#ff0000;\" x=\"165.439663\" xlink:href=\"#mf7f41dcacd\" y=\"150.922783\"/>\n     <use style=\"fill:#ff0000;stroke:#ff0000;\" x=\"136.290015\" xlink:href=\"#mf7f41dcacd\" y=\"158.47758\"/>\n     <use style=\"fill:#ff0000;stroke:#ff0000;\" x=\"106.722983\" xlink:href=\"#mf7f41dcacd\" y=\"175.057584\"/>\n     <use style=\"fill:#ff0000;stroke:#ff0000;\" x=\"200.519102\" xlink:href=\"#mf7f41dcacd\" y=\"101.718304\"/>\n     <use style=\"fill:#ff0000;stroke:#ff0000;\" x=\"361.249006\" xlink:href=\"#mf7f41dcacd\" y=\"26.558358\"/>\n     <use style=\"fill:#ff0000;stroke:#ff0000;\" x=\"160.140146\" xlink:href=\"#mf7f41dcacd\" y=\"155.418486\"/>\n     <use style=\"fill:#ff0000;stroke:#ff0000;\" x=\"302.987686\" xlink:href=\"#mf7f41dcacd\" y=\"42.5702\"/>\n     <use style=\"fill:#ff0000;stroke:#ff0000;\" x=\"197.841846\" xlink:href=\"#mf7f41dcacd\" y=\"132.017939\"/>\n     <use style=\"fill:#ff0000;stroke:#ff0000;\" x=\"224.863412\" xlink:href=\"#mf7f41dcacd\" y=\"120.014011\"/>\n     <use style=\"fill:#ff0000;stroke:#ff0000;\" x=\"146.846914\" xlink:href=\"#mf7f41dcacd\" y=\"136.456074\"/>\n     <use style=\"fill:#ff0000;stroke:#ff0000;\" x=\"187.045801\" xlink:href=\"#mf7f41dcacd\" y=\"134.740438\"/>\n     <use style=\"fill:#ff0000;stroke:#ff0000;\" x=\"182.565861\" xlink:href=\"#mf7f41dcacd\" y=\"139.301627\"/>\n     <use style=\"fill:#ff0000;stroke:#ff0000;\" x=\"133.532137\" xlink:href=\"#mf7f41dcacd\" y=\"173.836234\"/>\n     <use style=\"fill:#ff0000;stroke:#ff0000;\" x=\"243.548153\" xlink:href=\"#mf7f41dcacd\" y=\"93.840589\"/>\n     <use style=\"fill:#ff0000;stroke:#ff0000;\" x=\"56.885369\" xlink:href=\"#mf7f41dcacd\" y=\"216.689797\"/>\n     <use style=\"fill:#ff0000;stroke:#ff0000;\" x=\"167.948038\" xlink:href=\"#mf7f41dcacd\" y=\"136.012794\"/>\n     <use style=\"fill:#ff0000;stroke:#ff0000;\" x=\"240.030691\" xlink:href=\"#mf7f41dcacd\" y=\"105.858627\"/>\n     <use style=\"fill:#ff0000;stroke:#ff0000;\" x=\"332.784144\" xlink:href=\"#mf7f41dcacd\" y=\"30.447078\"/>\n     <use style=\"fill:#ff0000;stroke:#ff0000;\" x=\"208.92499\" xlink:href=\"#mf7f41dcacd\" y=\"113.063559\"/>\n     <use style=\"fill:#ff0000;stroke:#ff0000;\" x=\"238.827136\" xlink:href=\"#mf7f41dcacd\" y=\"98.724089\"/>\n     <use style=\"fill:#ff0000;stroke:#ff0000;\" x=\"224.656319\" xlink:href=\"#mf7f41dcacd\" y=\"118.345843\"/>\n     <use style=\"fill:#ff0000;stroke:#ff0000;\" x=\"109.333209\" xlink:href=\"#mf7f41dcacd\" y=\"184.077621\"/>\n     <use style=\"fill:#ff0000;stroke:#ff0000;\" x=\"312.099017\" xlink:href=\"#mf7f41dcacd\" y=\"44.333051\"/>\n     <use style=\"fill:#ff0000;stroke:#ff0000;\" x=\"219.151874\" xlink:href=\"#mf7f41dcacd\" y=\"113.910916\"/>\n     <use style=\"fill:#ff0000;stroke:#ff0000;\" x=\"179.817226\" xlink:href=\"#mf7f41dcacd\" y=\"127.616255\"/>\n     <use style=\"fill:#ff0000;stroke:#ff0000;\" x=\"260.611976\" xlink:href=\"#mf7f41dcacd\" y=\"100.958097\"/>\n     <use style=\"fill:#ff0000;stroke:#ff0000;\" x=\"134.117481\" xlink:href=\"#mf7f41dcacd\" y=\"143.479386\"/>\n     <use style=\"fill:#ff0000;stroke:#ff0000;\" x=\"195.052519\" xlink:href=\"#mf7f41dcacd\" y=\"119.833421\"/>\n     <use style=\"fill:#ff0000;stroke:#ff0000;\" x=\"145.755886\" xlink:href=\"#mf7f41dcacd\" y=\"175.812804\"/>\n     <use style=\"fill:#ff0000;stroke:#ff0000;\" x=\"217.856589\" xlink:href=\"#mf7f41dcacd\" y=\"116.035379\"/>\n     <use style=\"fill:#ff0000;stroke:#ff0000;\" x=\"281.366887\" xlink:href=\"#mf7f41dcacd\" y=\"70.547583\"/>\n     <use style=\"fill:#ff0000;stroke:#ff0000;\" x=\"330.758417\" xlink:href=\"#mf7f41dcacd\" y=\"40.070022\"/>\n     <use style=\"fill:#ff0000;stroke:#ff0000;\" x=\"120.737443\" xlink:href=\"#mf7f41dcacd\" y=\"160.831177\"/>\n     <use style=\"fill:#ff0000;stroke:#ff0000;\" x=\"202.614156\" xlink:href=\"#mf7f41dcacd\" y=\"120.929083\"/>\n     <use style=\"fill:#ff0000;stroke:#ff0000;\" x=\"278.996897\" xlink:href=\"#mf7f41dcacd\" y=\"86.074055\"/>\n     <use style=\"fill:#ff0000;stroke:#ff0000;\" x=\"114.810517\" xlink:href=\"#mf7f41dcacd\" y=\"171.303542\"/>\n     <use style=\"fill:#ff0000;stroke:#ff0000;\" x=\"207.229955\" xlink:href=\"#mf7f41dcacd\" y=\"119.50025\"/>\n     <use style=\"fill:#ff0000;stroke:#ff0000;\" x=\"157.227395\" xlink:href=\"#mf7f41dcacd\" y=\"142.543822\"/>\n     <use style=\"fill:#ff0000;stroke:#ff0000;\" x=\"208.386747\" xlink:href=\"#mf7f41dcacd\" y=\"110.383334\"/>\n     <use style=\"fill:#ff0000;stroke:#ff0000;\" x=\"184.34221\" xlink:href=\"#mf7f41dcacd\" y=\"131.96772\"/>\n     <use style=\"fill:#ff0000;stroke:#ff0000;\" x=\"165.219112\" xlink:href=\"#mf7f41dcacd\" y=\"167.742991\"/>\n     <use style=\"fill:#ff0000;stroke:#ff0000;\" x=\"215.96532\" xlink:href=\"#mf7f41dcacd\" y=\"129.162247\"/>\n     <use style=\"fill:#ff0000;stroke:#ff0000;\" x=\"130.264863\" xlink:href=\"#mf7f41dcacd\" y=\"173.777829\"/>\n     <use style=\"fill:#ff0000;stroke:#ff0000;\" x=\"165.443564\" xlink:href=\"#mf7f41dcacd\" y=\"149.377159\"/>\n     <use style=\"fill:#ff0000;stroke:#ff0000;\" x=\"263.369545\" xlink:href=\"#mf7f41dcacd\" y=\"90.735492\"/>\n     <use style=\"fill:#ff0000;stroke:#ff0000;\" x=\"90.659925\" xlink:href=\"#mf7f41dcacd\" y=\"204.249761\"/>\n     <use style=\"fill:#ff0000;stroke:#ff0000;\" x=\"237.367081\" xlink:href=\"#mf7f41dcacd\" y=\"84.063404\"/>\n     <use style=\"fill:#ff0000;stroke:#ff0000;\" x=\"285.742481\" xlink:href=\"#mf7f41dcacd\" y=\"73.285926\"/>\n     <use style=\"fill:#ff0000;stroke:#ff0000;\" x=\"249.503571\" xlink:href=\"#mf7f41dcacd\" y=\"83.041469\"/>\n     <use style=\"fill:#ff0000;stroke:#ff0000;\" x=\"240.891439\" xlink:href=\"#mf7f41dcacd\" y=\"98.989965\"/>\n     <use style=\"fill:#ff0000;stroke:#ff0000;\" x=\"232.674177\" xlink:href=\"#mf7f41dcacd\" y=\"98.681543\"/>\n     <use style=\"fill:#ff0000;stroke:#ff0000;\" x=\"137.273375\" xlink:href=\"#mf7f41dcacd\" y=\"163.59823\"/>\n     <use style=\"fill:#ff0000;stroke:#ff0000;\" x=\"170.630977\" xlink:href=\"#mf7f41dcacd\" y=\"130.427179\"/>\n     <use style=\"fill:#ff0000;stroke:#ff0000;\" x=\"228.031644\" xlink:href=\"#mf7f41dcacd\" y=\"121.864658\"/>\n     <use style=\"fill:#ff0000;stroke:#ff0000;\" x=\"258.54342\" xlink:href=\"#mf7f41dcacd\" y=\"86.574296\"/>\n     <use style=\"fill:#ff0000;stroke:#ff0000;\" x=\"209.445\" xlink:href=\"#mf7f41dcacd\" y=\"114.355465\"/>\n     <use style=\"fill:#ff0000;stroke:#ff0000;\" x=\"205.446898\" xlink:href=\"#mf7f41dcacd\" y=\"128.139159\"/>\n     <use style=\"fill:#ff0000;stroke:#ff0000;\" x=\"58.245481\" xlink:href=\"#mf7f41dcacd\" y=\"205.449478\"/>\n     <use style=\"fill:#ff0000;stroke:#ff0000;\" x=\"144.426283\" xlink:href=\"#mf7f41dcacd\" y=\"173.209953\"/>\n     <use style=\"fill:#ff0000;stroke:#ff0000;\" x=\"264.611046\" xlink:href=\"#mf7f41dcacd\" y=\"75.560841\"/>\n     <use style=\"fill:#ff0000;stroke:#ff0000;\" x=\"255.87339\" xlink:href=\"#mf7f41dcacd\" y=\"81.307252\"/>\n     <use style=\"fill:#ff0000;stroke:#ff0000;\" x=\"237.991835\" xlink:href=\"#mf7f41dcacd\" y=\"103.694168\"/>\n     <use style=\"fill:#ff0000;stroke:#ff0000;\" x=\"195.287288\" xlink:href=\"#mf7f41dcacd\" y=\"113.608667\"/>\n     <use style=\"fill:#ff0000;stroke:#ff0000;\" x=\"216.054529\" xlink:href=\"#mf7f41dcacd\" y=\"96.692763\"/>\n     <use style=\"fill:#ff0000;stroke:#ff0000;\" x=\"345.378648\" xlink:href=\"#mf7f41dcacd\" y=\"23.443557\"/>\n     <use style=\"fill:#ff0000;stroke:#ff0000;\" x=\"226.856897\" xlink:href=\"#mf7f41dcacd\" y=\"113.718284\"/>\n     <use style=\"fill:#ff0000;stroke:#ff0000;\" x=\"209.20239\" xlink:href=\"#mf7f41dcacd\" y=\"121.250388\"/>\n     <use style=\"fill:#ff0000;stroke:#ff0000;\" x=\"172.929782\" xlink:href=\"#mf7f41dcacd\" y=\"131.839018\"/>\n     <use style=\"fill:#ff0000;stroke:#ff0000;\" x=\"233.000011\" xlink:href=\"#mf7f41dcacd\" y=\"108.534714\"/>\n     <use style=\"fill:#ff0000;stroke:#ff0000;\" x=\"308.551075\" xlink:href=\"#mf7f41dcacd\" y=\"63.597506\"/>\n     <use style=\"fill:#ff0000;stroke:#ff0000;\" x=\"255.332416\" xlink:href=\"#mf7f41dcacd\" y=\"64.116596\"/>\n     <use style=\"fill:#ff0000;stroke:#ff0000;\" x=\"167.997951\" xlink:href=\"#mf7f41dcacd\" y=\"150.435299\"/>\n     <use style=\"fill:#ff0000;stroke:#ff0000;\" x=\"230.745273\" xlink:href=\"#mf7f41dcacd\" y=\"109.334296\"/>\n     <use style=\"fill:#ff0000;stroke:#ff0000;\" x=\"255.953483\" xlink:href=\"#mf7f41dcacd\" y=\"84.864929\"/>\n     <use style=\"fill:#ff0000;stroke:#ff0000;\" x=\"138.641644\" xlink:href=\"#mf7f41dcacd\" y=\"174.089194\"/>\n     <use style=\"fill:#ff0000;stroke:#ff0000;\" x=\"193.702867\" xlink:href=\"#mf7f41dcacd\" y=\"119.769222\"/>\n     <use style=\"fill:#ff0000;stroke:#ff0000;\" x=\"258.461465\" xlink:href=\"#mf7f41dcacd\" y=\"83.997083\"/>\n     <use style=\"fill:#ff0000;stroke:#ff0000;\" x=\"174.958987\" xlink:href=\"#mf7f41dcacd\" y=\"142.677292\"/>\n     <use style=\"fill:#ff0000;stroke:#ff0000;\" x=\"292.517548\" xlink:href=\"#mf7f41dcacd\" y=\"55.22998\"/>\n     <use style=\"fill:#ff0000;stroke:#ff0000;\" x=\"210.26215\" xlink:href=\"#mf7f41dcacd\" y=\"121.372853\"/>\n     <use style=\"fill:#ff0000;stroke:#ff0000;\" x=\"143.616716\" xlink:href=\"#mf7f41dcacd\" y=\"160.252749\"/>\n     <use style=\"fill:#ff0000;stroke:#ff0000;\" x=\"149.286811\" xlink:href=\"#mf7f41dcacd\" y=\"155.164775\"/>\n     <use style=\"fill:#ff0000;stroke:#ff0000;\" x=\"188.722975\" xlink:href=\"#mf7f41dcacd\" y=\"125.597616\"/>\n     <use style=\"fill:#ff0000;stroke:#ff0000;\" x=\"221.241817\" xlink:href=\"#mf7f41dcacd\" y=\"105.769197\"/>\n     <use style=\"fill:#ff0000;stroke:#ff0000;\" x=\"237.983003\" xlink:href=\"#mf7f41dcacd\" y=\"101.921362\"/>\n     <use style=\"fill:#ff0000;stroke:#ff0000;\" x=\"226.856702\" xlink:href=\"#mf7f41dcacd\" y=\"100.2979\"/>\n     <use style=\"fill:#ff0000;stroke:#ff0000;\" x=\"136.743024\" xlink:href=\"#mf7f41dcacd\" y=\"159.202884\"/>\n     <use style=\"fill:#ff0000;stroke:#ff0000;\" x=\"336.887096\" xlink:href=\"#mf7f41dcacd\" y=\"32.03707\"/>\n     <use style=\"fill:#ff0000;stroke:#ff0000;\" x=\"223.636216\" xlink:href=\"#mf7f41dcacd\" y=\"96.923211\"/>\n     <use style=\"fill:#ff0000;stroke:#ff0000;\" x=\"244.807541\" xlink:href=\"#mf7f41dcacd\" y=\"100.841088\"/>\n    </g>\n   </g>\n   <g id=\"line2d_15\">\n    <path clip-path=\"url(#p388c16df47)\" d=\"M 121.583863 173.563848 \nL 228.116017 104.867161 \nL 265.867552 80.523289 \nL 208.285252 117.654924 \nL 209.042231 117.16679 \nL 209.079632 117.142672 \nL 251.367666 89.873462 \nL 256.302869 86.691023 \nL 134.347997 165.332965 \nL 217.277771 111.856147 \nL 165.439663 145.283671 \nL 136.290015 164.080664 \nL 106.722983 183.146803 \nL 200.519102 122.662884 \nL 361.249006 19.01707 \nL 160.140146 148.701035 \nL 302.987686 56.586572 \nL 197.841846 124.389298 \nL 224.863412 106.964585 \nL 146.846914 157.273107 \nL 187.045801 131.351069 \nL 182.565861 134.239934 \nL 133.532137 165.859067 \nL 243.548153 94.915832 \nL 56.885369 215.284321 \nL 167.948038 143.666161 \nL 240.030691 97.184049 \nL 332.784144 37.372482 \nL 208.92499 117.242392 \nL 238.827136 97.960155 \nL 224.656319 107.098128 \nL 109.333209 181.463616 \nL 312.099017 50.71118 \nL 219.151874 110.647642 \nL 179.817226 136.012376 \nL 260.611976 83.912317 \nL 134.117481 165.481611 \nL 195.052519 126.18798 \nL 145.755886 157.976648 \nL 217.856589 111.482899 \nL 281.366887 70.528624 \nL 330.758417 38.678761 \nL 120.737443 174.109657 \nL 202.614156 121.311899 \nL 278.996897 72.056902 \nL 114.810517 177.931604 \nL 207.229955 118.335427 \nL 157.227395 150.579308 \nL 208.386747 117.589475 \nL 184.34221 133.094465 \nL 165.219112 145.425891 \nL 215.96532 112.702473 \nL 130.264863 167.965951 \nL 165.443564 145.281154 \nL 263.369545 82.134116 \nL 90.659925 193.50498 \nL 237.367081 98.901663 \nL 285.742481 67.707047 \nL 249.503571 91.075513 \nL 240.891439 96.629 \nL 232.674177 101.927856 \nL 137.273375 163.446549 \nL 170.630977 141.93608 \nL 228.031644 104.921569 \nL 258.54342 85.246216 \nL 209.445 116.907067 \nL 205.446898 119.485221 \nL 58.245481 214.407265 \nL 144.426283 158.834034 \nL 264.611046 81.333539 \nL 255.87339 86.967968 \nL 237.991835 98.498795 \nL 195.287288 126.036591 \nL 216.054529 112.644948 \nL 345.378648 29.250979 \nL 226.856897 105.679098 \nL 209.20239 117.063512 \nL 172.929782 140.453709 \nL 233.000011 101.717745 \nL 308.551075 52.999047 \nL 255.332416 87.316813 \nL 167.997951 143.633972 \nL 230.745273 103.1717 \nL 255.953483 86.916322 \nL 138.641644 162.56423 \nL 193.702867 127.058296 \nL 258.461465 85.299063 \nL 174.958987 139.145187 \nL 292.517548 63.33818 \nL 210.26215 116.380132 \nL 143.616716 159.356082 \nL 149.286811 155.699748 \nL 188.722975 130.269553 \nL 221.241817 109.299952 \nL 237.983003 98.504488 \nL 226.856702 105.679224 \nL 136.743024 163.788544 \nL 336.887096 34.726715 \nL 223.636216 107.755936 \nL 244.807541 94.103723 \n\" style=\"fill:none;stroke:#0000ff;stroke-linecap:square;stroke-width:1.5;\"/>\n   </g>\n   <g id=\"patch_3\">\n    <path d=\"M 41.667188 226.573434 \nL 41.667188 9.133434 \n\" style=\"fill:none;stroke:#000000;stroke-linecap:square;stroke-linejoin:miter;stroke-width:0.8;\"/>\n   </g>\n   <g id=\"patch_4\">\n    <path d=\"M 376.467188 226.573434 \nL 376.467188 9.133434 \n\" style=\"fill:none;stroke:#000000;stroke-linecap:square;stroke-linejoin:miter;stroke-width:0.8;\"/>\n   </g>\n   <g id=\"patch_5\">\n    <path d=\"M 41.667188 226.573434 \nL 376.467188 226.573434 \n\" style=\"fill:none;stroke:#000000;stroke-linecap:square;stroke-linejoin:miter;stroke-width:0.8;\"/>\n   </g>\n   <g id=\"patch_6\">\n    <path d=\"M 41.667188 9.133434 \nL 376.467188 9.133434 \n\" style=\"fill:none;stroke:#000000;stroke-linecap:square;stroke-linejoin:miter;stroke-width:0.8;\"/>\n   </g>\n  </g>\n </g>\n <defs>\n  <clipPath id=\"p388c16df47\">\n   <rect height=\"217.44\" width=\"334.8\" x=\"41.667188\" y=\"9.133434\"/>\n  </clipPath>\n </defs>\n</svg>\n",
      "image/png": "[encoded data removed]"
     },
     "metadata": {
      "needs_background": "light"
     }
    }
   ],
   "metadata": {}
  },
  {
   "cell_type": "markdown",
   "source": [
    "<details>\n",
    "    <summary> Hmm this seems like something we should do in a class? (or why didn't you introduce nn.modules?!) </summary>\n",
    "\n",
    "You are completely right it does work much better as a class, but maybe slightly overdoing it for the task at hand, however if you are familiar with pytorch or deep learning you might find it more convenient to create a model class. We will look at this next time as well, but in pytorch this looks something like this for the linear regression:\n",
    "\n",
    "```py\n",
    "class LinearModel(nn.Module):\n",
    "    def __init__(self, n_input_features):\n",
    "        # initialize the superclass nn.module (to tell pytorch that this is a trainable model)\n",
    "        super(Model, self).__init__()\n",
    "\n",
    "        # create a linear layer to save in the model\n",
    "        self.linear = nn.Linear(n_input_features, 1)\n",
    "\n",
    "    def forward(self, x):\n",
    "        y = self.linear(x)\n",
    "        return y\n",
    "```\n",
    "\n",
    "You can the use this model the same way as before:\n",
    "\n",
    "```\n",
    "model = LinearModel(n_input_features = 1) # create model\n",
    "y = model.forward(x)\n",
    "\n",
    "# same af before you can now calculate the loss and optimize in a loop\n",
    "```\n",
    "\n",
    "It is a little overkill for the exercise, but it might be nice getting used to the abstraction.\n",
    "\n",
    "</details>\n",
    "\n",
    "<br /> \n"
   ],
   "metadata": {}
  },
  {
   "cell_type": "markdown",
   "source": [
    "# Task: Logistic Regression\n",
    "\n",
    "---\n",
    "\n",
    "create a logistic regression, fitted either to your tekst features or (maybe easier to start with) the following test data.\n",
    "\n",
    "Things which might be useful to know:\n",
    "\n",
    "Torch do have a binary cross entropy loss function (`torch.nn.BCELoss`) and a sigmoid function (`torch.sigmoid`).\n",
    "\n",
    "If you find it hard to start it might worth debating with your studygroup\n",
    "\n",
    "- what the difference is between linear regression and logistic regression\n",
    "- How many input features how many output?\n",
    "- Try to draw it as a 1-layer neural network\n",
    "\n",
    "> **Bonus**: The end of the chapter introduced the multinomial logistic regression, it is actually surprisingly easy to do in pytorch, can you implement it? (*Hint*: pytorch does have a softmax function) The chapter also introduces (L1 and) L2 regularization for logistic regression, can you add that to your model as well?"
   ],
   "metadata": {}
  },
  {
   "cell_type": "code",
   "execution_count": 40,
   "source": [
    "X_numpy, y_numpy = datasets.make_classification(n_samples=1000, n_features=10, random_state=7)\n",
    "\n",
    "X = torch.tensor(X_numpy, dtype=torch.float)\n",
    "y = torch.tensor(y_numpy, dtype=torch.float)\n",
    "y = y.view(y.shape[0],1) #\n",
    "\n",
    "n_samples, n_features = X.shape\n",
    "\n",
    "# # only plotting 2 out of 10 feature\n",
    "# plt.scatter(X_numpy[:, 3], X_numpy[:, 5], marker='o', c=y_numpy,\n",
    "#             s=25, edgecolor='k')"
   ],
   "outputs": [
    {
     "output_type": "stream",
     "name": "stdout",
     "text": "1000 10\n"
    }
   ],
   "metadata": {}
  },
  {
   "cell_type": "code",
   "execution_count": 45,
   "metadata": {},
   "outputs": [
    {
     "output_type": "stream",
     "name": "stdout",
     "text": "<bound method Module.parameters of Linear(in_features=10, out_features=1, bias=True)>\n"
    }
   ],
   "source": [
    "input_size = 10\n",
    "output_size = 1\n",
    "model = nn.Linear(input_size, output_size)\n",
    "print(model.parameters)\n",
    "\n",
    "#Somehow do a sigmoid transformation on the linear parameters - what we want to optimize is the sigmoid transformation of the linear model"
   ]
  },
  {
   "cell_type": "code",
   "execution_count": 46,
   "metadata": {},
   "outputs": [],
   "source": [
    "learning_rate = 0.01\n",
    "\n",
    "criterion = torch.nn.BCELoss()\n",
    "optimizer = torch.optim.SGD(model.parameters(), lr = learning_rate)"
   ]
  },
  {
   "cell_type": "code",
   "execution_count": 47,
   "source": [
    "epochs = 500\n",
    "for epoch in range(epochs):\n",
    "    y_predicted = torch.sigmoid(model(X))\n",
    "\n",
    "    loss = criterion(y_predicted, y)\n",
    "\n",
    "    loss.backward()\n",
    "    optimizer.step()\n",
    "\n",
    "    optimizer.zero_grad()\n",
    "\n",
    "    if epoch % 100 == 0:\n",
    "        print(f'epoch number {epoch} has a loss of {loss.item():.4f}')"
   ],
   "outputs": [
    {
     "output_type": "stream",
     "name": "stdout",
     "text": "epoch number 0 has a loss of 0.8077\nepoch number 100 has a loss of 0.5724\nepoch number 200 has a loss of 0.4508\nepoch number 300 has a loss of 0.3826\nepoch number 400 has a loss of 0.3406\n"
    }
   ],
   "metadata": {}
  }
 ],
 "metadata": {
  "orig_nbformat": 4,
  "language_info": {
   "name": "python",
   "version": "3.7.3-final",
   "mimetype": "text/x-python",
   "codemirror_mode": {
    "name": "ipython",
    "version": 3
   },
   "pygments_lexer": "ipython3",
   "nbconvert_exporter": "python",
   "file_extension": ".py"
  },
  "kernelspec": {
   "name": "python37364bit30f39739367741c9b53bbe3a1b58a96f",
   "display_name": "Python 3.7.3 64-bit"
  },
  "interpreter": {
   "hash": "2136a9c3637fd160483224d7922e48bf03b650be5dff26724a0c1f8d1279953b"
  }
 },
 "nbformat": 4,
 "nbformat_minor": 2
}